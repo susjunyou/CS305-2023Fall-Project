{
 "cells": [
  {
   "cell_type": "raw",
   "metadata": {
    "collapsed": false
   },
   "source": [
    "    In the project, the majority of tasks will undergo script testing, with only a few being reviewed by the TA. Be aware that this testing material is not final and cannot cover all testing scenarios. If you are caught cheating during testing, the whole group will receive a score of 0 for the project."
   ]
  },
  {
   "cell_type": "raw",
   "metadata": {
    "collapsed": false
   },
   "source": [
    "The script checks using the requests library in Python. Before testing, ensure that the server has three users with the usernames \"client1\", \"client2\", and \"client3\", and the passwords \"123\". In the upcoming tests, if the Authorization field is needed, use \"client1\" and \"123\" as both the username and password."
   ]
  },
  {
   "cell_type": "code",
   "execution_count": 1,
   "metadata": {
    "collapsed": false,
    "ExecuteTime": {
     "end_time": "2024-01-01T15:37:36.266976100Z",
     "start_time": "2024-01-01T15:37:36.171802600Z"
    }
   },
   "outputs": [],
   "source": [
    "import requests"
   ]
  },
  {
   "cell_type": "raw",
   "metadata": {
    "collapsed": false
   },
   "source": [
    "The initial check is the head request, a fundamental job of the server is to respond to the request. Use the \"headers\" parameter for logging into the server. Disregard this parameter if the server lacks the login feature."
   ]
  },
  {
   "cell_type": "code",
   "execution_count": 17,
   "metadata": {
    "collapsed": false,
    "ExecuteTime": {
     "end_time": "2024-01-01T06:50:18.130748300Z",
     "start_time": "2024-01-01T06:50:16.033035Z"
    }
   },
   "outputs": [
    {
     "name": "stdout",
     "output_type": "stream",
     "text": [
      "<Response [200]>\n"
     ]
    }
   ],
   "source": [
    "headers = {\"Authorization\": \"Basic Y2xpZW50MToxMjM=\"}\n",
    "q = requests.head('http://localhost:8080/client1/a.txt', headers=headers)\n",
    "print(q)\n"
   ]
  },
  {
   "cell_type": "raw",
   "metadata": {
    "collapsed": false
   },
   "source": [
    "Test get request"
   ]
  },
  {
   "cell_type": "code",
   "execution_count": 18,
   "metadata": {
    "collapsed": false,
    "ExecuteTime": {
     "end_time": "2024-01-01T06:50:20.197116800Z",
     "start_time": "2024-01-01T06:50:18.131752600Z"
    }
   },
   "outputs": [
    {
     "name": "stdout",
     "output_type": "stream",
     "text": [
      "<Response [200]>\n"
     ]
    }
   ],
   "source": [
    "headers = {\"Authorization\": \"Basic Y2xpZW50MToxMjM=\"}\n",
    "q = requests.get('http://localhost:8080/', headers=headers)\n",
    "print(q)"
   ]
  },
  {
   "cell_type": "raw",
   "metadata": {
    "collapsed": false
   },
   "source": [
    "Test post request"
   ]
  },
  {
   "cell_type": "code",
   "execution_count": 19,
   "metadata": {
    "collapsed": false,
    "ExecuteTime": {
     "end_time": "2024-01-01T06:50:22.241470Z",
     "start_time": "2024-01-01T06:50:20.200125200Z"
    }
   },
   "outputs": [
    {
     "name": "stdout",
     "output_type": "stream",
     "text": [
      "<Response [405]>\n"
     ]
    }
   ],
   "source": [
    "headers = {\"Authorization\": \"Basic Y2xpZW50MToxMjM=\"}\n",
    "q = requests.post('http://localhost:8080/', headers=headers)\n",
    "print(q)"
   ]
  },
  {
   "cell_type": "raw",
   "metadata": {
    "collapsed": false
   },
   "source": [
    "Next, we will provide test examples based on the chapters in the project documentation. Each test is accompanied by a output. We do not check exact string matches for your output, as long as you complete the corresponding task.\n",
    "\n"
   ]
  },
  {
   "cell_type": "code",
   "execution_count": 20,
   "metadata": {
    "collapsed": false,
    "ExecuteTime": {
     "end_time": "2024-01-01T06:50:22.285022Z",
     "start_time": "2024-01-01T06:50:22.243473200Z"
    }
   },
   "outputs": [
    {
     "name": "stdout",
     "output_type": "stream",
     "text": [
      "<Response [200]>\n",
      "<Response [200]>\n"
     ]
    }
   ],
   "source": [
    "#1.1\n",
    "headers = {\"Authorization\": \"Basic Y2xpZW50MToxMjM=\"}\n",
    "session = requests.Session()\n",
    "session.headers.update({'Connection': 'keep-alive'})\n",
    "\n",
    "response1 = session.get('http://127.0.0.1:8080', headers=headers)\n",
    "response2 = session.get('http://127.0.0.1:8080', headers=headers)\n",
    "# test close\n",
    "# session.headers.update({'Connection': 'close'})\n",
    "# response3 = session.get('http://127.0.0.1:8080', headers=headers)\n",
    "print(response1)\n",
    "print(response2)\n",
    "# print(response3.headers)\n",
    "\n",
    "\n"
   ]
  },
  {
   "cell_type": "code",
   "execution_count": 21,
   "metadata": {
    "collapsed": false,
    "ExecuteTime": {
     "end_time": "2024-01-01T06:50:22.328092Z",
     "start_time": "2024-01-01T06:50:22.275503200Z"
    }
   },
   "outputs": [
    {
     "name": "stdout",
     "output_type": "stream",
     "text": [
      "<Response [200]>\n",
      "<Response [200]>\n"
     ]
    }
   ],
   "source": [
    "#1.2\n",
    "#1.1\n",
    "headers = {\"Authorization\": \"Basic Y2xpZW50MToxMjM=\"}\n",
    "session1 = requests.Session()\n",
    "session1.headers.update({'Connection': 'keep-alive'})\n",
    "session2 = requests.Session()\n",
    "session2.headers.update({'Connection': 'keep-alive'})\n",
    "\n",
    "response1 = session1.get('http://127.0.0.1:8080', headers=headers)\n",
    "response2 = session2.get('http://127.0.0.1:8080', headers=headers)\n",
    "\n",
    "print(response1)\n",
    "print(response2)\n"
   ]
  },
  {
   "cell_type": "code",
   "execution_count": 2,
   "metadata": {
    "collapsed": false,
    "ExecuteTime": {
     "end_time": "2024-01-01T15:19:46.762084100Z",
     "start_time": "2024-01-01T15:19:42.654706800Z"
    }
   },
   "outputs": [
    {
     "name": "stdout",
     "output_type": "stream",
     "text": [
      "<Response [200]>\n",
      "<Response [401]>\n",
      "b''\n"
     ]
    }
   ],
   "source": [
    "#1.3\n",
    "headers1 = {\"Authorization\": \"Basic Y2xpZW50MToxMjM=\"}\n",
    "headers2 = {}\n",
    "q = requests.head('http://localhost:8080/', headers=headers1)\n",
    "print(q)\n",
    "q = requests.head('http://localhost:8080/', headers=headers2)\n",
    "print(q)\n",
    "print(q.content)"
   ]
  },
  {
   "cell_type": "code",
   "execution_count": 23,
   "metadata": {
    "collapsed": false,
    "ExecuteTime": {
     "end_time": "2024-01-01T06:50:26.453931400Z",
     "start_time": "2024-01-01T06:50:26.421911200Z"
    }
   },
   "outputs": [
    {
     "name": "stdout",
     "output_type": "stream",
     "text": [
      "<Response [200]>\n",
      "['12589/', 'a.py', 'a.txt', 'client1/', 'client2/', 'client3/']\n"
     ]
    }
   ],
   "source": [
    "#2\n",
    "url1 = 'http://127.0.0.1:8080/?SUSTech-HTTP=1'\n",
    "\n",
    "headers = {\"Authorization\": \"Basic Y2xpZW50MToxMjM=\"}\n",
    "r = requests.get(url=url1, headers=headers)\n",
    "print(r)\n",
    "print(r.content.decode())"
   ]
  },
  {
   "cell_type": "code",
   "execution_count": 24,
   "metadata": {
    "collapsed": false,
    "ExecuteTime": {
     "end_time": "2024-01-01T06:50:26.502466900Z",
     "start_time": "2024-01-01T06:50:26.454929Z"
    }
   },
   "outputs": [
    {
     "name": "stdout",
     "output_type": "stream",
     "text": [
      "<!DOCTYPE html>\n",
      "<html lang=\"\">\n",
      "<head>\n",
      "    <meta charset=\"utf-8\">\n",
      "    <title>CS305 Project File Manage Server</title>\n",
      "    <style>\n",
      "        body {\n",
      "            font-family: Arial, sans-serif;\n",
      "            margin: 20px;\n",
      "            background-color: #f5f5f5;\n",
      "        }\n",
      "\n",
      "        h1 {\n",
      "            text-align: center;\n",
      "            color: #0366d6;\n",
      "        }\n",
      "\n",
      "        .file-list {\n",
      "            width: 60%;\n",
      "            margin: 0 auto;\n",
      "            padding: 0;\n",
      "            list-style-type: none;\n",
      "            background-color: white;\n",
      "            border-radius: 5px;\n",
      "            padding: 20px;\n",
      "            box-shadow: 0px 0px 10px rgba(0, 0, 0, 0.1);\n",
      "        }\n",
      "\n",
      "        .file-item, .file-item2 {\n",
      "            display: flex;\n",
      "            align-items: center;\n",
      "            justify-content: space-between;\n",
      "            margin-bottom: 10px;\n",
      "            padding: 8px;\n",
      "            border-radius: 5px;\n",
      "            background-color: #f5f5f5;\n",
      "        }\n",
      "\n",
      "        .file-link {\n",
      "            text-decoration: none;\n",
      "            color: #0366d6;\n",
      "            margin-right: 10px;\n",
      "        }\n",
      "\n",
      "        .delete-btn {\n",
      "            padding: 5px 10px;\n",
      "            border: none;\n",
      "            border-radius: 4px;\n",
      "            background-color: #0366d6;\n",
      "            color: white;\n",
      "            cursor: pointer;\n",
      "        }\n",
      "\n",
      "        .delete-btn:hover {\n",
      "            background-color: #0056b3;\n",
      "        }\n",
      "\n",
      "        input[type=\"file\"] {\n",
      "            margin-bottom: 10px;\n",
      "            display: block;\n",
      "            margin: 0 auto;\n",
      "        }\n",
      "\n",
      "        .upload-btn {\n",
      "            display: block;\n",
      "            margin: 0 auto;\n",
      "            padding: 8px 20px;\n",
      "            border: none;\n",
      "            border-radius: 4px;\n",
      "            background-color: #0366d6;\n",
      "            color: white;\n",
      "            cursor: pointer;\n",
      "        }\n",
      "\n",
      "        .upload-btn:hover {\n",
      "            background-color: #0056b3;\n",
      "        }\n",
      "\n",
      "\n",
      "        .switch {\n",
      "            position: relative;\n",
      "            display: inline-block;\n",
      "            width: 40px;\n",
      "            height: 20px;\n",
      "        }\n",
      "\n",
      "        .switch input {\n",
      "            opacity: 0;\n",
      "            width: 0;\n",
      "            height: 0;\n",
      "        }\n",
      "\n",
      "        .slider {\n",
      "            position: absolute;\n",
      "            cursor: pointer;\n",
      "            top: 0;\n",
      "            left: 0;\n",
      "            right: 0;\n",
      "            bottom: 0;\n",
      "            background-color: #ccc;\n",
      "            -webkit-transition: .4s;\n",
      "            transition: .4s;\n",
      "            border-radius: 20px;\n",
      "        }\n",
      "\n",
      "        .slider:before {\n",
      "            position: absolute;\n",
      "            content: \"\";\n",
      "            height: 16px;\n",
      "            width: 16px;\n",
      "            left: 2px;\n",
      "            bottom: 2px;\n",
      "            background-color: white;\n",
      "            -webkit-transition: .4s;\n",
      "            transition: .4s;\n",
      "            border-radius: 50%;\n",
      "        }\n",
      "\n",
      "        input:checked + .slider {\n",
      "            background-color: #0056b3;\n",
      "        }\n",
      "\n",
      "        input:focus + .slider {\n",
      "            box-shadow: 0 0 1px #0056b3;\n",
      "        }\n",
      "\n",
      "        input:checked + .slider:before {\n",
      "            -webkit-transform: translateX(20px);\n",
      "            -ms-transform: translateX(20px);\n",
      "            transform: translateX(20px);\n",
      "        }\n",
      "\n",
      "\n",
      "        .slider.round {\n",
      "            border-radius: 20px;\n",
      "        }\n",
      "\n",
      "        .slider.round:before {\n",
      "            border-radius: 50%;\n",
      "        }\n",
      "\n",
      "        .chunked-label {\n",
      "            color: #0056b3;\n",
      "            font-size: 18px;\n",
      "            margin-right: 10px;\n",
      "        }\n",
      "    </style>\n",
      "</head>\n",
      "<body>\n",
      "<h1>Directory listing for/</h1>\n",
      "<label class=\"chunked-label\" style=\"margin-left: 65%\"> Chunked Transfer: </label>\n",
      "<label class=\"switch\">\n",
      "    <input type=\"checkbox\" id=\"chunkedTransferSwitch\">\n",
      "    <span class=\"slider\"></span>\n",
      "</label>\n",
      "<ul class=\"file-list\" style=\"margin-top: 10px\">\n",
      "    <li class=\"file-item\"><a href=\"/?SUSTech-HTTP=0\" class=\"file-link\">./</a></li>\n",
      "    <li class=\"file-item\"><a href=\"/?SUSTech-HTTP=0\" class=\"file-link\">../</a></li>\n",
      "<li class=\"file-item\"><a href=\"/12589?SUSTech-HTTP=0\" class=\"file-link\">12589/</a><div><label for=\"new name\"></label><input type=\"text\" id=\"newName0\" placeholder=\"newName\" required style=\"margin-right:20px\"><button class=\"delete-btn\" onclick=\"renameFile('/12589',0)\" style=\"margin-right:10px\">Rename</button><button class=\"delete-btn\" onclick=\"deleteDir('/12589')\">Delete</button></div></li>\n",
      "<li class=\"file-item\"><a href=\"/a.py\" class=\"file-link\" download>a.py</a><div><label for=\"new name\"></label><input type=\"text\" id=\"newName1\" placeholder=\"newName\" required style=\"margin-right:20px\"><button class=\"delete-btn\" onclick=\"renameFile('/a.py',1)\" style=\"margin-right:10px\">Rename</button><button class=\"delete-btn\" onclick=\"deleteFile('/a.py')\">Delete</button></div></li>\n",
      "<li class=\"file-item\"><a href=\"/a.txt\" class=\"file-link\" download>a.txt</a><div><label for=\"new name\"></label><input type=\"text\" id=\"newName2\" placeholder=\"newName\" required style=\"margin-right:20px\"><button class=\"delete-btn\" onclick=\"renameFile('/a.txt',2)\" style=\"margin-right:10px\">Rename</button><button class=\"delete-btn\" onclick=\"deleteFile('/a.txt')\">Delete</button></div></li>\n",
      "<li class=\"file-item\"><a href=\"/client1?SUSTech-HTTP=0\" class=\"file-link\">client1/</a><div><label for=\"new name\"></label><input type=\"text\" id=\"newName3\" placeholder=\"newName\" required style=\"margin-right:20px\"><button class=\"delete-btn\" onclick=\"renameFile('/client1',3)\" style=\"margin-right:10px\">Rename</button><button class=\"delete-btn\" onclick=\"deleteDir('/client1')\">Delete</button></div></li>\n",
      "<li class=\"file-item\"><a href=\"/client2?SUSTech-HTTP=0\" class=\"file-link\">client2/</a><div><label for=\"new name\"></label><input type=\"text\" id=\"newName4\" placeholder=\"newName\" required style=\"margin-right:20px\"><button class=\"delete-btn\" onclick=\"renameFile('/client2',4)\" style=\"margin-right:10px\">Rename</button><button class=\"delete-btn\" onclick=\"deleteDir('/client2')\">Delete</button></div></li>\n",
      "<li class=\"file-item\"><a href=\"/client3?SUSTech-HTTP=0\" class=\"file-link\">client3/</a><div><label for=\"new name\"></label><input type=\"text\" id=\"newName5\" placeholder=\"newName\" required style=\"margin-right:20px\"><button class=\"delete-btn\" onclick=\"renameFile('/client3',5)\" style=\"margin-right:10px\">Rename</button><button class=\"delete-btn\" onclick=\"deleteDir('/client3')\">Delete</button></div></li>\n",
      "\n",
      "    <li class=\"file-item2\">\n",
      "        <input type=\"file\" id=\"fileInput\">\n",
      "        <button class=\"upload-btn\" onclick=\"uploadFile()\">Upload</button>\n",
      "        <button class=\"upload-btn\" onclick=\"addDir()\">Add Directory</button>\n",
      "    </li>\n",
      "\n",
      "</ul>\n",
      "<script>\n",
      "    function uploadFile() {\n",
      "        const fileInput = document.getElementById('fileInput');\n",
      "        const file = fileInput.files[0];\n",
      "        if (!file) {\n",
      "            alert(\"Please select a file!\");\n",
      "            return;\n",
      "        }\n",
      "        const formData = new FormData();\n",
      "        formData.append('file', file);\n",
      "        fetch('/upload?path=/', {\n",
      "            method: 'POST',\n",
      "            body: formData\n",
      "        })\n",
      "            .then(response => {\n",
      "                if (response.status !== 200) {\n",
      "                    if (response.status === 408) {\n",
      "                        alert('Session expired. Please login again.');\n",
      "                        window.location.href = 'http://localhost:8080/login';\n",
      "                        return;\n",
      "                    }\n",
      "                    if (response.status === 403) {\n",
      "                        alert('You do not have permission to upload this file!');\n",
      "                        return;\n",
      "                    }\n",
      "                }\n",
      "                alert('File uploaded successfully!');\n",
      "                location.reload();\n",
      "                console.log('File uploaded:', response);\n",
      "            })\n",
      "            .catch(error => {\n",
      "                console.error('Error uploading file:', error);\n",
      "            });\n",
      "    }\n",
      "\n",
      "\n",
      "    function renameFile(path, index) {\n",
      "        console.log(path);\n",
      "        const newName = document.getElementById('newName' + index).value;\n",
      "        if (!newName) {\n",
      "            alert('Please enter a new name!');\n",
      "            return;\n",
      "        }\n",
      "        if (!confirm('Are you sure to rename this file?')) {\n",
      "            return;\n",
      "        }\n",
      "\n",
      "        fetch(`/rename?path=${path}?new_name=${newName}`, {\n",
      "            method: 'POST'\n",
      "        })\n",
      "            .then(response => {\n",
      "                console.log('Response status:', response.status);\n",
      "                if (response.status !== 200) {\n",
      "                    if (response.status === 408) {\n",
      "                        alert('Session expired. Please login again.');\n",
      "                        window.location.href = 'http://localhost:8080/login';\n",
      "                        return;\n",
      "                    }\n",
      "                    if (response.status === 403) {\n",
      "                        alert('You do not have permission to rename this file!');\n",
      "                    }\n",
      "                    location.reload();\n",
      "                    return;\n",
      "                }\n",
      "                alert('File rename successfully!');\n",
      "                location.reload();\n",
      "            })\n",
      "            .catch(error => {\n",
      "                console.error('Error rename file:', error);\n",
      "            });\n",
      "    }\n",
      "\n",
      "    function deleteFile(path) {\n",
      "        console.log(path);\n",
      "        if (!confirm('Are you sure to delete this file?')) {\n",
      "            return;\n",
      "        }\n",
      "        fetch('/delete?path=' + path, {\n",
      "            method: 'POST'\n",
      "        })\n",
      "            .then(response => {\n",
      "                console.log('Response status:', response.status);\n",
      "                if (response.status !== 200) {\n",
      "                    if (response.status === 408) {\n",
      "                        alert('Session expired. Please login again.');\n",
      "                        window.location.href = 'http://localhost:8080/login';\n",
      "                        return;\n",
      "                    }\n",
      "                    if (response.status === 403) {\n",
      "                        alert('You do not have permission to delete this file!');\n",
      "                    }\n",
      "                    location.reload();\n",
      "                    return;\n",
      "                }\n",
      "                alert('File delete successfully!');\n",
      "                location.reload();\n",
      "            })\n",
      "            .catch(error => {\n",
      "                console.error('Error deleting file:', error);\n",
      "            });\n",
      "    }\n",
      "\n",
      "    function deleteDir(path) {\n",
      "        console.log(path);\n",
      "        if (!confirm('Are you sure to delete this director?')) {\n",
      "            return;\n",
      "        }\n",
      "        fetch(path, {\n",
      "            method: 'DELE'\n",
      "        })\n",
      "            .then(response => {\n",
      "                console.log('Response status:', response.status);\n",
      "                if (response.status !== 200) {\n",
      "                    if (response.status === 408) {\n",
      "                        alert('Session expired. Please login again.');\n",
      "                        window.location.href = 'http://localhost:8080/login';\n",
      "                        return;\n",
      "                    }\n",
      "                    if (response.status === 403) {\n",
      "                        alert('You do not have permission to delete this direction!');\n",
      "                    }\n",
      "                    location.reload();\n",
      "                    return;\n",
      "                }\n",
      "                alert('Direction delete successfully!');\n",
      "                location.reload();\n",
      "            })\n",
      "            .catch(error => {\n",
      "                console.error('Error deleting direction:', error);\n",
      "            });\n",
      "    }\n",
      "\n",
      "    function addDir() {\n",
      "        const dirName = prompt('Enter the new directory name:');\n",
      "\n",
      "        if (dirName) {\n",
      "            fetch('/addDirectory?path=/?new_name=' + dirName, {\n",
      "                method: 'POST'\n",
      "            })\n",
      "                .then(response => {\n",
      "                    if (response.status !== 200) {\n",
      "                        if (response.status === 408) {\n",
      "                            alert('Session expired. Please login again.');\n",
      "                            window.location.href = 'http://localhost:8080/login';\n",
      "                            return;\n",
      "                        }\n",
      "                        if (response.status === 403) {\n",
      "                            alert('You do not have permission to add this directory!');\n",
      "                        }\n",
      "                        location.reload();\n",
      "                        return;\n",
      "                    }\n",
      "                    alert('Directory added successfully!');\n",
      "                    location.reload();\n",
      "                })\n",
      "                .catch(error => {\n",
      "                    console.error('Error adding directory:', error);\n",
      "                });\n",
      "        }\n",
      "    }\n",
      "\n",
      "    const chunkedTransferSwitch = document.getElementById('chunkedTransferSwitch');\n",
      "    const fileLinks = document.querySelectorAll('.file-link');\n",
      "    chunkedTransferSwitch.addEventListener('change', function () {\n",
      "        const isChunked = this.checked;\n",
      "        fileLinks.forEach(fileLink => {\n",
      "            let url = new URL(fileLink.getAttribute('href'), window.location.href);\n",
      "            if (url.searchParams.has('SUSTech-HTTP')) {\n",
      "\n",
      "            } else {\n",
      "                if (isChunked) {\n",
      "                    url.searchParams.set('chunked', '1');\n",
      "                } else {\n",
      "                    url.searchParams.delete('chunked');\n",
      "                }\n",
      "            }\n",
      "            fileLink.setAttribute('href', url.toString());\n",
      "            console.log(url.toString())\n",
      "        });\n",
      "    });\n",
      "</script>\n",
      "</body>\n",
      "</html>\n"
     ]
    }
   ],
   "source": [
    "#2\n",
    "url2 = 'http://127.0.0.1:8080/?SUSTech-HTTP=0'\n",
    "\n",
    "headers = {\"Authorization\": \"Basic Y2xpZW50MToxMjM=\"}\n",
    "r = requests.get(url=url2, headers=headers)\n",
    "print(r.content.decode())"
   ]
  },
  {
   "cell_type": "code",
   "execution_count": 25,
   "metadata": {
    "collapsed": false,
    "ExecuteTime": {
     "end_time": "2024-01-01T06:50:26.580528200Z",
     "start_time": "2024-01-01T06:50:26.486442500Z"
    }
   },
   "outputs": [
    {
     "name": "stdout",
     "output_type": "stream",
     "text": [
      "sadfsdfasdf\n"
     ]
    }
   ],
   "source": [
    "#2\n",
    "headers = {\"Authorization\": \"Basic Y2xpZW50MToxMjM=\"}\n",
    "r = requests.get(url='http://127.0.0.1:8080/a.txt', headers=headers)\n",
    "print(r.content.decode())"
   ]
  },
  {
   "cell_type": "code",
   "execution_count": 3,
   "metadata": {
    "collapsed": false,
    "ExecuteTime": {
     "end_time": "2024-01-01T15:37:54.821744300Z",
     "start_time": "2024-01-01T15:37:54.798236Z"
    }
   },
   "outputs": [
    {
     "name": "stdout",
     "output_type": "stream",
     "text": [
      "<Response [200]>\n",
      "<Response [403]>\n"
     ]
    }
   ],
   "source": [
    "#3.1\n",
    "files = {\"firstFile\": open('tmp/a.txt', \"rb\")}\n",
    "\n",
    "data = {}\n",
    "headers = {\"Authorization\": \"Basic Y2xpZW50MToxMjM=\"}\n",
    "r = requests.post(url='http://127.0.0.1:8080/upload?path=client1/', data=data, headers=headers, files=files)\n",
    "print(r)\n",
    "r = requests.post(url='http://127.0.0.1:8080/upload?path=client2/', data=data, headers=headers, files=files)\n",
    "print(r)"
   ]
  },
  {
   "cell_type": "code",
   "execution_count": 27,
   "metadata": {
    "collapsed": false,
    "ExecuteTime": {
     "end_time": "2024-01-01T06:50:26.643730100Z",
     "start_time": "2024-01-01T06:50:26.563499Z"
    }
   },
   "outputs": [
    {
     "name": "stdout",
     "output_type": "stream",
     "text": [
      "<Response [200]>\n"
     ]
    }
   ],
   "source": [
    "#3.2\n",
    "url = 'http://127.0.0.1:8080/delete?path=client1/a.py'\n",
    "\n",
    "headers = {\"Authorization\": \"Basic Y2xpZW50MToxMjM=\"}\n",
    "r = requests.post(url=url, headers=headers)\n",
    "print(r)"
   ]
  },
  {
   "cell_type": "code",
   "execution_count": 28,
   "metadata": {
    "collapsed": false,
    "ExecuteTime": {
     "end_time": "2024-01-01T06:50:28.707509Z",
     "start_time": "2024-01-01T06:50:26.594037400Z"
    }
   },
   "outputs": [
    {
     "name": "stdout",
     "output_type": "stream",
     "text": [
      "1984be6a-853a-406e-a431-42f8ca962207\n",
      "<Response [200]>\n"
     ]
    }
   ],
   "source": [
    "#4\n",
    "url = 'http://127.0.0.1:8080/'\n",
    "\n",
    "headers = {\"Authorization\": \"Basic Y2xpZW50MToxMjM=\"}\n",
    "r = requests.get(url=url, headers=headers)\n",
    "print(r.cookies.values()[0])\n",
    "headers = {\"Cookie\": 'session-id=' + r.cookies.values()[0]}\n",
    "q = requests.get('http://localhost:8080/', headers=headers)\n",
    "print(q)\n",
    "# print(q.cookies)"
   ]
  },
  {
   "cell_type": "code",
   "execution_count": 29,
   "metadata": {
    "collapsed": false,
    "ExecuteTime": {
     "end_time": "2024-01-01T06:50:28.750067300Z",
     "start_time": "2024-01-01T06:50:28.709509600Z"
    }
   },
   "outputs": [
    {
     "name": "stdout",
     "output_type": "stream",
     "text": [
      "<Response [200]>\n"
     ]
    }
   ],
   "source": [
    "#5\n",
    "headers = {\"Authorization\": \"Basic Y2xpZW50MToxMjM=\"}\n",
    "r = requests.get(url='http://127.0.0.1:8080/client1/a.txt?chunked=1', headers=headers)\n",
    "print(r)"
   ]
  },
  {
   "cell_type": "markdown",
   "source": [],
   "metadata": {
    "collapsed": false
   }
  },
  {
   "cell_type": "code",
   "execution_count": 30,
   "metadata": {
    "collapsed": false,
    "ExecuteTime": {
     "end_time": "2024-01-01T06:50:28.791610400Z",
     "start_time": "2024-01-01T06:50:28.744068800Z"
    }
   },
   "outputs": [
    {
     "name": "stdout",
     "output_type": "stream",
     "text": [
      "--999bcf6dd2d346ce8aa83f4fdaecf574\r\n",
      "Content-Type: text/plain\r\n",
      "Content-Range: bytes 0-1/13\r\n",
      "\r\n",
      "sa\r\n",
      "--999bcf6dd2d346ce8aa83f4fdaecf574\r\n",
      "Content-Type: text/plain\r\n",
      "Content-Range: bytes 1-2/13\r\n",
      "\r\n",
      "ad\r\n",
      "--999bcf6dd2d346ce8aa83f4fdaecf574\r\n",
      "Content-Type: text/plain\r\n",
      "Content-Range: bytes 2-3/13\r\n",
      "\r\n",
      "df\r\n",
      "--999bcf6dd2d346ce8aa83f4fdaecf574--\r\n"
     ]
    }
   ],
   "source": [
    "#Breakpoint Transmission\n",
    "url = 'http://127.0.0.1:8080/client1/a.txt'\n",
    "\n",
    "data = {}\n",
    "headers = {\"Authorization\": \"Basic Y2xpZW50MToxMjM=\",\n",
    "           \"Range\": \"0-1,1-2,2-3\"}\n",
    "r = requests.get(url=url, data=data, headers=headers)\n",
    "print(r.content.decode())"
   ]
  }
 ],
 "metadata": {
  "kernelspec": {
   "display_name": "Python 3",
   "language": "python",
   "name": "python3"
  },
  "language_info": {
   "codemirror_mode": {
    "name": "ipython",
    "version": 3
   },
   "file_extension": ".py",
   "mimetype": "text/x-python",
   "name": "python",
   "nbconvert_exporter": "python",
   "pygments_lexer": "ipython3",
   "version": "3.10.12"
  }
 },
 "nbformat": 4,
 "nbformat_minor": 0
}
